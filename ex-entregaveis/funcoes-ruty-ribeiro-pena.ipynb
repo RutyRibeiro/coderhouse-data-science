{
 "cells": [
  {
   "cell_type": "markdown",
   "metadata": {},
   "source": [
    "# Prática com funções\n",
    "\n",
    "### 1º Exercício\n",
    "Escrever função para calcular o fatorial de um número qualquer."
   ]
  },
  {
   "cell_type": "code",
   "execution_count": 2,
   "metadata": {},
   "outputs": [],
   "source": [
    "def fat (num):\n",
    "    soma = 1\n",
    "    for i in range(1,num+1):\n",
    "        soma*=i\n",
    "    return soma"
   ]
  },
  {
   "cell_type": "markdown",
   "metadata": {},
   "source": [
    "### Testes função 1"
   ]
  },
  {
   "cell_type": "markdown",
   "metadata": {},
   "source": [
    "1. Testando função para o numero 4"
   ]
  },
  {
   "cell_type": "code",
   "execution_count": 3,
   "metadata": {},
   "outputs": [
    {
     "name": "stdout",
     "output_type": "stream",
     "text": [
      "Função funciona o fatorial de 4 = 24\n"
     ]
    }
   ],
   "source": [
    "testeUm = fat(4) \n",
    "if testeUm == 24:\n",
    "    print(f\"Função funciona o fatorial de 4 = {testeUm}\")\n",
    "else:\n",
    "    print(f\"A função não funciona o resultado foi {testeUm}\")"
   ]
  },
  {
   "cell_type": "markdown",
   "metadata": {},
   "source": [
    "2. Testando função para o número 8"
   ]
  },
  {
   "cell_type": "code",
   "execution_count": 16,
   "metadata": {},
   "outputs": [
    {
     "name": "stdout",
     "output_type": "stream",
     "text": [
      "Função funciona o fatorial de 8 = 40320\n"
     ]
    }
   ],
   "source": [
    "testeDois = fat(8) \n",
    "if testeDois == 40320:\n",
    "    print(f\"Função funciona o fatorial de 8 = {testeDois}\")\n",
    "else:\n",
    "    print(f\"A função não funciona o resultado foi {testeDois}\")"
   ]
  },
  {
   "cell_type": "markdown",
   "metadata": {},
   "source": [
    "3. Testando função para o número 12"
   ]
  },
  {
   "cell_type": "code",
   "execution_count": 17,
   "metadata": {},
   "outputs": [
    {
     "name": "stdout",
     "output_type": "stream",
     "text": [
      "Função funciona o fatorial de 12 = 479001600\n"
     ]
    }
   ],
   "source": [
    "testeTres = fat(12) \n",
    "if testeTres == 479001600:\n",
    "    print(f\"Função funciona o fatorial de 12 = {testeTres}\")\n",
    "else:\n",
    "    print(f\"A função não funciona o resultado foi {testeTres}\")"
   ]
  },
  {
   "cell_type": "markdown",
   "metadata": {},
   "source": [
    "### 2º Exercício\n",
    "Escrever uma função para calcular a soma de uma serie começando por um numero qualquer e terminando em outro numero que deve ser maior que o primeiro."
   ]
  },
  {
   "cell_type": "code",
   "execution_count": 13,
   "metadata": {},
   "outputs": [
    {
     "name": "stdout",
     "output_type": "stream",
     "text": [
      "20\n"
     ]
    }
   ],
   "source": [
    "def serie (inicial, final):\n",
    "    soma = 0\n",
    "    i = inicial\n",
    "    \n",
    "    while i <= final:\n",
    "        soma += i\n",
    "        i += 1\n",
    "    return soma\n",
    "\n",
    "print(serie(2,6))"
   ]
  },
  {
   "cell_type": "markdown",
   "metadata": {},
   "source": [
    "### Testes função 2\n",
    "\n",
    "1. Testando função para a serie 2...6"
   ]
  },
  {
   "cell_type": "code",
   "execution_count": 15,
   "metadata": {},
   "outputs": [
    {
     "name": "stdout",
     "output_type": "stream",
     "text": [
      "Função funciona o fatorial de 4 = 20\n"
     ]
    }
   ],
   "source": [
    "testeQuatro = serie(2,6) \n",
    "if testeQuatro == 20:\n",
    "    print(f\"Função funciona a soma da serie 2...6 = {testeQuatro}\")\n",
    "else:\n",
    "    print(f\"A função não funciona o resultado foi {testeQuatro}\")"
   ]
  },
  {
   "cell_type": "markdown",
   "metadata": {},
   "source": [
    "2. Testando função para a serie 6...12"
   ]
  },
  {
   "cell_type": "code",
   "execution_count": 18,
   "metadata": {},
   "outputs": [
    {
     "name": "stdout",
     "output_type": "stream",
     "text": [
      "Função funciona a soma da serie 6...12 = 63\n"
     ]
    }
   ],
   "source": [
    "testeCinco = serie(6,12) \n",
    "if testeCinco == 63:\n",
    "    print(f\"Função funciona a soma da serie 6...12 = {testeCinco}\")\n",
    "else:\n",
    "    print(f\"A função não funciona o resultado foi {testeCinco}\")"
   ]
  },
  {
   "cell_type": "markdown",
   "metadata": {},
   "source": [
    "3. Testando função para a serie 100...120"
   ]
  },
  {
   "cell_type": "code",
   "execution_count": 19,
   "metadata": {},
   "outputs": [
    {
     "name": "stdout",
     "output_type": "stream",
     "text": [
      "Função funciona a soma da serie 100...120 = 2310\n"
     ]
    }
   ],
   "source": [
    "testeSeis = serie(100,120) \n",
    "if testeSeis == 2310:\n",
    "    print(f\"Função funciona a soma da serie 100...120 = {testeSeis}\")\n",
    "else:\n",
    "    print(f\"A função não funciona o resultado foi {testeSeis}\")"
   ]
  }
 ],
 "metadata": {
  "kernelspec": {
   "display_name": "Python 3.8.7 ('env': venv)",
   "language": "python",
   "name": "python3"
  },
  "language_info": {
   "codemirror_mode": {
    "name": "ipython",
    "version": 3
   },
   "file_extension": ".py",
   "mimetype": "text/x-python",
   "name": "python",
   "nbconvert_exporter": "python",
   "pygments_lexer": "ipython3",
   "version": "3.8.7"
  },
  "orig_nbformat": 4,
  "vscode": {
   "interpreter": {
    "hash": "62585e16c2c861cc6bae2ee9cc76a42bc64aaf977206be23a07dd4a44b879406"
   }
  }
 },
 "nbformat": 4,
 "nbformat_minor": 2
}
