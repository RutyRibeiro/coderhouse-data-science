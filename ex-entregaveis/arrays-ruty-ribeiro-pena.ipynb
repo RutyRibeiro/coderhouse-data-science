{
 "cells": [
  {
   "cell_type": "markdown",
   "metadata": {},
   "source": [
    "# Prática com arrays no numpy\n",
    "\n",
    "### 1º Exercício\n",
    "    Gerar um array aleatório de 100 elementos, calcular mediana correspondente."
   ]
  },
  {
   "cell_type": "code",
   "execution_count": 25,
   "metadata": {},
   "outputs": [],
   "source": [
    "import numpy as np"
   ]
  },
  {
   "cell_type": "code",
   "execution_count": 34,
   "metadata": {},
   "outputs": [
    {
     "name": "stdout",
     "output_type": "stream",
     "text": [
      "A mediana do array: \n",
      "\n",
      "[ 907431827 1591738560 1455442111 1164810699  246157657  459321000\n",
      "  711444904  340564964  804674235 1295308967 1880067821  141095030\n",
      " 1613544540   36438625 1006942525 1479374745  489125902  892474351\n",
      " 1772483286 1618059428 2112145768 1176931001 2130657127 1372702154\n",
      " 1915186707  359001576 1354889186 1206588174 1703872743 1618570395\n",
      "  276268849 2122558424 1562925289  149784721  284447308   71346555\n",
      "  533918953   53131888  300813597 1997258268  429321187  513384974\n",
      " 1561153509 1381283502 1278344079  819825689 1893981170 1871201135\n",
      "  439776885  385666987 1276518196 1048275881  849310733  696136561\n",
      "  253495413  111815035 2011582342  497089201  137984022  350005452\n",
      "  122945185  279001202 1346294069  635086154  312104709 1038729394\n",
      " 1035478331 1417321071 2016610431 1917966790 2085528429 1939032558\n",
      "  409814011 2087305385  183367585  220846738 1401539893 1703638497\n",
      "  540803776  424338246 1577693608 1008140946 1630810788 1483543420\n",
      "  338307534  661009927 1869883449  513484558 1241126138 1400165152\n",
      "  579374280 1853073142 1491732090  561032229 1666566070 1150325649\n",
      " 1140131398  257346317 1240133338  333642051]\n",
      "\n",
      " Corresponde a = 1043502637.5\n"
     ]
    }
   ],
   "source": [
    "\n",
    "arr = np.array(np.random.randint(2147483647,size=100))\n",
    "\n",
    "print(f\"A mediana do array: \\n\\n{arr}\\n\\n Corresponde a = {np.median(arr)}\")"
   ]
  },
  {
   "cell_type": "markdown",
   "metadata": {},
   "source": [
    "### 2º Exercício\n",
    "    Relembrar os exercícios com funções para cálculo de fatrial e soma de séries da Aula 02. Repetir os dois exercícios, mas agora utilizar as novas operações aprendidas com ndarrays."
   ]
  },
  {
   "cell_type": "markdown",
   "metadata": {},
   "source": [
    "\n",
    "#### 2.1 Exercício\n",
    "    Escrever função para calcular o fatorial de um número qualquer."
   ]
  },
  {
   "cell_type": "code",
   "execution_count": 35,
   "metadata": {},
   "outputs": [],
   "source": [
    "def fat (num):\n",
    "    array_fat = np.array(np.arange(1,num+1))\n",
    "    soma = 1\n",
    "\n",
    "    for i in array_fat:\n",
    "        soma*=i\n",
    "    return soma"
   ]
  },
  {
   "cell_type": "markdown",
   "metadata": {},
   "source": [
    "### Testes função 1"
   ]
  },
  {
   "cell_type": "markdown",
   "metadata": {},
   "source": [
    "    1. Testando função para o numero 0"
   ]
  },
  {
   "cell_type": "code",
   "execution_count": 44,
   "metadata": {},
   "outputs": [
    {
     "name": "stdout",
     "output_type": "stream",
     "text": [
      "Função funciona o fatorial de 0 = 1\n"
     ]
    }
   ],
   "source": [
    "testeUm = fat(0) \n",
    "if testeUm == 1:\n",
    "    print(f\"Função funciona o fatorial de 0 = {testeUm}\")\n",
    "else:\n",
    "    print(f\"A função não funciona o resultado foi {testeUm}\")"
   ]
  },
  {
   "cell_type": "markdown",
   "metadata": {},
   "source": [
    "    2. Testando função para o número 8"
   ]
  },
  {
   "cell_type": "code",
   "execution_count": 45,
   "metadata": {},
   "outputs": [
    {
     "name": "stdout",
     "output_type": "stream",
     "text": [
      "Função funciona o fatorial de 8 = 40320\n"
     ]
    }
   ],
   "source": [
    "testeDois = fat(8) \n",
    "if testeDois == 40320:\n",
    "    print(f\"Função funciona o fatorial de 8 = {testeDois}\")\n",
    "else:\n",
    "    print(f\"A função não funciona o resultado foi {testeDois}\")"
   ]
  },
  {
   "cell_type": "markdown",
   "metadata": {},
   "source": [
    "    3. Testando função para o número 12"
   ]
  },
  {
   "cell_type": "code",
   "execution_count": 46,
   "metadata": {},
   "outputs": [
    {
     "name": "stdout",
     "output_type": "stream",
     "text": [
      "Função funciona o fatorial de 12 = 479001600\n"
     ]
    }
   ],
   "source": [
    "testeTres = fat(12) \n",
    "if testeTres == 479001600:\n",
    "    print(f\"Função funciona o fatorial de 12 = {testeTres}\")\n",
    "else:\n",
    "    print(f\"A função não funciona o resultado foi {testeTres}\")"
   ]
  },
  {
   "cell_type": "markdown",
   "metadata": {},
   "source": [
    "#### 2.2 Exercício\n",
    "Escrever uma função para calcular a soma de uma serie começando por um numero qualquer e terminando em outro numero que deve ser maior que o primeiro."
   ]
  },
  {
   "cell_type": "code",
   "execution_count": 61,
   "metadata": {},
   "outputs": [],
   "source": [
    "from array import array\n",
    "\n",
    "def serie (inicial, final):\n",
    "    soma = 0\n",
    "    array_serie = np.arange(inicial,final+1)\n",
    "    \n",
    "    for i in array_serie:\n",
    "        soma+=i\n",
    "    return soma"
   ]
  },
  {
   "cell_type": "markdown",
   "metadata": {},
   "source": [
    "### Testes função 2\n",
    "\n",
    "1. Testando função para a serie 2...6"
   ]
  },
  {
   "cell_type": "code",
   "execution_count": 57,
   "metadata": {},
   "outputs": [
    {
     "name": "stdout",
     "output_type": "stream",
     "text": [
      "Função funciona a soma da serie 2...6 = 20\n"
     ]
    }
   ],
   "source": [
    "testeQuatro = serie(2,6) \n",
    "if testeQuatro == 20:\n",
    "    print(f\"Função funciona a soma da serie 2...6 = {testeQuatro}\")\n",
    "else:\n",
    "    print(f\"A função não funciona o resultado foi {testeQuatro}\")"
   ]
  },
  {
   "cell_type": "markdown",
   "metadata": {},
   "source": [
    "2. Testando função para a serie 6...12"
   ]
  },
  {
   "cell_type": "code",
   "execution_count": 58,
   "metadata": {},
   "outputs": [
    {
     "name": "stdout",
     "output_type": "stream",
     "text": [
      "Função funciona a soma da serie 6...12 = 63\n"
     ]
    }
   ],
   "source": [
    "testeCinco = serie(6,12) \n",
    "if testeCinco == 63:\n",
    "    print(f\"Função funciona a soma da serie 6...12 = {testeCinco}\")\n",
    "else:\n",
    "    print(f\"A função não funciona o resultado foi {testeCinco}\")"
   ]
  },
  {
   "cell_type": "markdown",
   "metadata": {},
   "source": [
    "3. Testando função para a serie 100...120"
   ]
  },
  {
   "cell_type": "code",
   "execution_count": 59,
   "metadata": {},
   "outputs": [
    {
     "name": "stdout",
     "output_type": "stream",
     "text": [
      "Função funciona a soma da serie 100...120 = 2310\n"
     ]
    }
   ],
   "source": [
    "testeSeis = serie(100,120) \n",
    "if testeSeis == 2310:\n",
    "    print(f\"Função funciona a soma da serie 100...120 = {testeSeis}\")\n",
    "else:\n",
    "    print(f\"A função não funciona o resultado foi {testeSeis}\")"
   ]
  }
 ],
 "metadata": {
  "kernelspec": {
   "display_name": "Python 3.8.7 ('env': venv)",
   "language": "python",
   "name": "python3"
  },
  "language_info": {
   "codemirror_mode": {
    "name": "ipython",
    "version": 3
   },
   "file_extension": ".py",
   "mimetype": "text/x-python",
   "name": "python",
   "nbconvert_exporter": "python",
   "pygments_lexer": "ipython3",
   "version": "3.8.7"
  },
  "orig_nbformat": 4,
  "vscode": {
   "interpreter": {
    "hash": "62585e16c2c861cc6bae2ee9cc76a42bc64aaf977206be23a07dd4a44b879406"
   }
  }
 },
 "nbformat": 4,
 "nbformat_minor": 2
}
