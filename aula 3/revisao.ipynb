{
 "cells": [
  {
   "cell_type": "markdown",
   "metadata": {},
   "source": [
    "## Revisão estrutura IF"
   ]
  },
  {
   "cell_type": "code",
   "execution_count": 3,
   "metadata": {},
   "outputs": [
    {
     "name": "stdout",
     "output_type": "stream",
     "text": [
      "0 é menor que 1\n"
     ]
    }
   ],
   "source": [
    "x = 0\n",
    "\n",
    "if x > 1:\n",
    "    print(f\"{x} é maior que 1\")\n",
    "elif x < 1:\n",
    "    print(f\"{x} é menor que 1\")\n",
    "else:\n",
    "    print(f\"{x} é um\")\n"
   ]
  },
  {
   "cell_type": "markdown",
   "metadata": {},
   "source": [
    "## Exercícios"
   ]
  },
  {
   "cell_type": "markdown",
   "metadata": {},
   "source": [
    "### Exercício 1\n",
    "\n",
    "O fatorial x! é definido como o produto de todos os números de 1 a x.\n",
    "Digitar o código para calcular o fatorial de 5."
   ]
  },
  {
   "cell_type": "code",
   "execution_count": 11,
   "metadata": {},
   "outputs": [
    {
     "name": "stdout",
     "output_type": "stream",
     "text": [
      "120\n"
     ]
    }
   ],
   "source": [
    "x = 1\n",
    "for i in range(1,6):\n",
    "    x = x*i \n",
    "print(x)"
   ]
  },
  {
   "cell_type": "markdown",
   "metadata": {},
   "source": [
    "### Exercicio 2\n",
    "\n",
    "J. B. Büttner, um professor de escola alemã, puniu todas as crianças dando à elas a tarefa de somar os primeiros 100 números naturais para mantê-las entretidas e quietas por um longo tempo. Carl Friedrich Gauss obteve a resposta quase imediatamente, encontrando uma fórmula para a soma de uma série de números naturais (a fórmula é outra história...).\n",
    "Fazer um programa que calcule a soma dos primeiros 100 números naturais.\n"
   ]
  },
  {
   "cell_type": "code",
   "execution_count": 9,
   "metadata": {},
   "outputs": [
    {
     "name": "stdout",
     "output_type": "stream",
     "text": [
      "5050\n"
     ]
    }
   ],
   "source": [
    "x = 0\n",
    "i = 0\n",
    "while i <= 100:\n",
    "    x = x + i \n",
    "    i = i + 1\n",
    "print(x)"
   ]
  }
 ],
 "metadata": {
  "kernelspec": {
   "display_name": "Python 3.8.7 64-bit",
   "language": "python",
   "name": "python3"
  },
  "language_info": {
   "codemirror_mode": {
    "name": "ipython",
    "version": 3
   },
   "file_extension": ".py",
   "mimetype": "text/x-python",
   "name": "python",
   "nbconvert_exporter": "python",
   "pygments_lexer": "ipython3",
   "version": "3.8.7"
  },
  "orig_nbformat": 4,
  "vscode": {
   "interpreter": {
    "hash": "1f3895ef0f5dafce0b64a4e8002dfa76e2859ff44f8e4fed429b8d082a949303"
   }
  }
 },
 "nbformat": 4,
 "nbformat_minor": 2
}
